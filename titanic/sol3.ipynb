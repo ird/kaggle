{
 "cells": [
  {
   "cell_type": "code",
   "execution_count": 8,
   "metadata": {},
   "outputs": [
    {
     "name": "stdout",
     "output_type": "stream",
     "text": [
      "[ 0.15218048  0.75341048  0.09440904]\n",
      "None\n"
     ]
    },
    {
     "name": "stderr",
     "output_type": "stream",
     "text": [
      "/usr/local/lib/python3.5/dist-packages/ipykernel_launcher.py:6: SettingWithCopyWarning: \n",
      "A value is trying to be set on a copy of a slice from a DataFrame\n",
      "\n",
      "See the caveats in the documentation: http://pandas.pydata.org/pandas-docs/stable/indexing.html#indexing-view-versus-copy\n",
      "  \n",
      "/usr/local/lib/python3.5/dist-packages/ipykernel_launcher.py:7: SettingWithCopyWarning: \n",
      "A value is trying to be set on a copy of a slice from a DataFrame\n",
      "\n",
      "See the caveats in the documentation: http://pandas.pydata.org/pandas-docs/stable/indexing.html#indexing-view-versus-copy\n",
      "  import sys\n",
      "/usr/local/lib/python3.5/dist-packages/ipykernel_launcher.py:24: SettingWithCopyWarning: \n",
      "A value is trying to be set on a copy of a slice from a DataFrame\n",
      "\n",
      "See the caveats in the documentation: http://pandas.pydata.org/pandas-docs/stable/indexing.html#indexing-view-versus-copy\n",
      "/usr/local/lib/python3.5/dist-packages/ipykernel_launcher.py:25: SettingWithCopyWarning: \n",
      "A value is trying to be set on a copy of a slice from a DataFrame\n",
      "\n",
      "See the caveats in the documentation: http://pandas.pydata.org/pandas-docs/stable/indexing.html#indexing-view-versus-copy\n"
     ]
    }
   ],
   "source": [
    "import pandas as pd\n",
    "from sklearn import tree\n",
    "\n",
    "list_features = ['Fam_size', 'Sex', 'Age']\n",
    "train = pd.read_csv('train.csv')\n",
    "train['Sex'][train['Sex'] == 'male'] = 0\n",
    "train['Sex'][train['Sex'] == 'female'] = 1\n",
    "train['Age'] = train['Age'].fillna(train.Age.median())\n",
    "train['SibSp'] = train['SibSp'].fillna(train.SibSp.median())\n",
    "train['Parch'] = train['Parch'].fillna(train.Parch.median())\n",
    "train['Fam_size'] = 1 + train['SibSp'] + train['Parch']\n",
    "\n",
    "target = train['Survived'].values\n",
    "features = train[list_features].values\n",
    "\n",
    "tr = tree.DecisionTreeClassifier(max_depth=3)\n",
    "tr = tr.fit(features, target)\n",
    "print(tr.feature_importances_)\n",
    "print(tree.export_graphviz(tr, out_file=\"tree3.dot\",\n",
    "      feature_names=list_features))\n",
    "\n",
    "test = pd.read_csv('test.csv')\n",
    "# Set up test data set features\n",
    "test['Sex'][test['Sex'] == 'male'] = 0\n",
    "test['Sex'][test['Sex'] == 'female'] = 1\n",
    "test['Age'] = test['Age'].fillna(test.Age.median())\n",
    "test['SibSp'] = test['SibSp'].fillna(test.SibSp.median())\n",
    "test['Parch'] = test['Parch'].fillna(test.Parch.median())\n",
    "test['Fam_size'] = 1 + test['SibSp'] + test['Parch']\n",
    "test_features = test[list_features]\n",
    "\n",
    "test['Survived'] = tr.predict(test_features)\n",
    "test.to_csv('sol3.csv', index=False,\n",
    "            columns=['PassengerId', 'Survived'])"
   ]
  },
  {
   "cell_type": "code",
   "execution_count": null,
   "metadata": {},
   "outputs": [],
   "source": []
  }
 ],
 "metadata": {
  "kernelspec": {
   "display_name": "Python 3",
   "language": "python",
   "name": "python3"
  },
  "language_info": {
   "codemirror_mode": {
    "name": "ipython",
    "version": 3
   },
   "file_extension": ".py",
   "mimetype": "text/x-python",
   "name": "python",
   "nbconvert_exporter": "python",
   "pygments_lexer": "ipython3",
   "version": "3.5.2"
  }
 },
 "nbformat": 4,
 "nbformat_minor": 2
}
